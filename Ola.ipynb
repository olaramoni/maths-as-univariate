{
 "cells": [
  {
   "cell_type": "code",
   "execution_count": null,
   "metadata": {
    "hide_input": false,
    "slideshow": {
     "slide_type": "notes"
    }
   },
   "outputs": [],
   "source": [
    "# We'll need random numbers\n",
    "import random"
   ]
  },
  {
   "cell_type": "markdown",
   "metadata": {
    "slideshow": {
     "slide_type": "slide"
    }
   },
   "source": [
    "# Snake\n",
    "\n",
    "### Reminder\n",
    "\n",
    "A round of snake goes like this\n",
    "\n",
    "* Everyone stands up\n",
    "* We keep rolling two dice and adding them to a running total\n",
    "* You can choose to sit down and take that running total as your score for the round\n",
    "* **Except** if either of the dice shows a $1$, then if you're still standing you score $0$\n",
    "* (We'll ignore a $1$ on the first round)\n",
    "\n",
    "Snake is usually played over five rounds `S N A K E` and the grand total is your final score."
   ]
  },
  {
   "cell_type": "markdown",
   "metadata": {
    "slideshow": {
     "slide_type": "slide"
    }
   },
   "source": [
    "Roll two dice and add them"
   ]
  },
  {
   "cell_type": "code",
   "execution_count": null,
   "metadata": {
    "hide_input": false,
    "scrolled": false,
    "slideshow": {
     "slide_type": "-"
    }
   },
   "outputs": [],
   "source": [
    "def snake_roll():\n",
    "    a = random.randint(1,6)\n",
    "    b = random.randint(1,6)\n",
    "    return a,b,a+b\n",
    "snake_roll()"
   ]
  },
  {
   "cell_type": "markdown",
   "metadata": {
    "slideshow": {
     "slide_type": "subslide"
    }
   },
   "source": [
    "## How many rolls does an average round last?"
   ]
  },
  {
   "cell_type": "markdown",
   "metadata": {
    "slideshow": {
     "slide_type": "fragment"
    }
   },
   "source": [
    "### Task\n",
    "\n",
    "Use this scaffolding to write a function which simulates a round of snake. It should return the number of rolls before a $1$ appears."
   ]
  },
  {
   "cell_type": "code",
   "execution_count": 1,
   "metadata": {
    "slideshow": {
     "slide_type": "subslide"
    }
   },
   "outputs": [],
   "source": [
    "from collections import Counter\n",
    "import random\n",
    "def snake_rolls(trialCount):\n",
    "    rolls = 0\n",
    "    trials=[]\n",
    "    for i in range(1,trialCount+1):\n",
    "        # Roll them dice\n",
    "        while True:\n",
    "            a=random.randint(1,6)\n",
    "            b=random.randint(1,6)\n",
    "            rolls+=1\n",
    "            if a==1 or b==1:\n",
    "                if rolls!=1:\n",
    "                    trials.append(rolls)\n",
    "                    rolls=0\n",
    "                    break\n",
    "    trials=sorted(trials)\n",
    "    print(\"The mean number of rolls is \",sum(trials)/len(trials))\n",
    "    medianValue=int(len(trials)/2)\n",
    "    print(\"The median number of rolls is \",trials[medianValue])\n",
    "    data=Counter(trials)\n",
    "    print(\"The modal number of rolls is \",data.most_common(1))"
   ]
  },
  {
   "cell_type": "code",
   "execution_count": 2,
   "metadata": {},
   "outputs": [
    {
     "name": "stdout",
     "output_type": "stream",
     "text": [
      "The mean number of rolls is  4.2751\n",
      "The median number of rolls is  3\n",
      "The modal number of rolls is  [(2, 3057)]\n"
     ]
    }
   ],
   "source": [
    "snake_rolls(10000)"
   ]
  },
  {
   "cell_type": "markdown",
   "metadata": {
    "slideshow": {
     "slide_type": "subslide"
    }
   },
   "source": [
    "A possible solution"
   ]
  },
  {
   "cell_type": "code",
   "execution_count": null,
   "metadata": {
    "slideshow": {
     "slide_type": "-"
    }
   },
   "outputs": [],
   "source": [
    "def snake_rolls():\n",
    "    rolls = 0\n",
    "    while True:\n",
    "        # Roll them dice\n",
    "        a = random.randint(1,6)\n",
    "        b = random.randint(1,6)\n",
    "        # Got a 1?\n",
    "        if (a==1 or b==1) and rolls > 0:\n",
    "            # Return the score\n",
    "            return rolls\n",
    "        else:\n",
    "            # What's the new score\n",
    "            rolls += 1\n",
    "#Remember jupyter echoes the last value in a cell, so we don't need to bother printing\n",
    "snake_rolls()"
   ]
  },
  {
   "cell_type": "markdown",
   "metadata": {
    "slideshow": {
     "slide_type": "subslide"
    }
   },
   "source": [
    "### Discuss\n",
    "\n",
    "How can you use `snake_rolls()` to decide what an \"average\" number of rolls is?"
   ]
  },
  {
   "cell_type": "markdown",
   "metadata": {
    "slideshow": {
     "slide_type": "-"
    }
   },
   "source": [
    "What is a good Python type for collecting this data?"
   ]
  },
  {
   "cell_type": "code",
   "execution_count": null,
   "metadata": {
    "slideshow": {
     "slide_type": "subslide"
    }
   },
   "outputs": [],
   "source": [
    "# Play five rounds of snake\n",
    "data = [snake_rolls() for i in range(10)]\n",
    "data"
   ]
  },
  {
   "cell_type": "markdown",
   "metadata": {
    "slideshow": {
     "slide_type": "fragment"
    }
   },
   "source": [
    "### Task\n",
    "\n",
    "* Find the \"average\" number of rolls for your ten rounds\n",
    "* How could you improve this estimate?\n",
    "* Is your method as efficient as it could be?"
   ]
  },
  {
   "cell_type": "markdown",
   "metadata": {
    "slideshow": {
     "slide_type": "subslide"
    }
   },
   "source": [
    "### Discuss\n",
    "\n",
    "* Which definition of average did you choose (mean, median, mode)?\n",
    "* Why did you choose that measure of average?"
   ]
  },
  {
   "cell_type": "markdown",
   "metadata": {
    "slideshow": {
     "slide_type": "fragment"
    }
   },
   "source": [
    "### Task\n",
    "\n",
    "* Use the skeleton code to write functions that find the mean, median and mode of a list of data\n",
    "* Use your functions to find all three averages for a thousand rounds of snake"
   ]
  },
  {
   "cell_type": "code",
   "execution_count": null,
   "metadata": {
    "slideshow": {
     "slide_type": "subslide"
    }
   },
   "outputs": [],
   "source": [
    "def mean(data_list):\n",
    "    # Find the sum of the data\n",
    "    # Divide by the number of items\n",
    "    return None\n",
    "test_data = [1,1,2,2,4]\n",
    "assert mean(test_data)==2, \"Nope\""
   ]
  },
  {
   "cell_type": "code",
   "execution_count": null,
   "metadata": {
    "slideshow": {
     "slide_type": "subslide"
    }
   },
   "outputs": [],
   "source": [
    "def median(data_list):\n",
    "    # Find the middle item of data\n",
    "    return None\n",
    "test_data = [1,1,2,2,4]\n",
    "assert median(test_data)==2, \"Nope\""
   ]
  },
  {
   "cell_type": "code",
   "execution_count": null,
   "metadata": {
    "slideshow": {
     "slide_type": "subslide"
    }
   },
   "outputs": [],
   "source": [
    "def mode(data_list):\n",
    "    # Find the middle item of data\n",
    "    return None\n",
    "test_data = [0,1,2,2,5]\n",
    "assert mode(test_data)==2, \"Nope\""
   ]
  },
  {
   "cell_type": "markdown",
   "metadata": {
    "slideshow": {
     "slide_type": "subslide"
    }
   },
   "source": [
    "Over a thousand rounds of snake, the average number of rolls was\n",
    "\n",
    "* Mean =\n",
    "* Median = \n",
    "* Mode ="
   ]
  },
  {
   "cell_type": "markdown",
   "metadata": {
    "slideshow": {
     "slide_type": "slide"
    }
   },
   "source": [
    "## Visualising this data"
   ]
  },
  {
   "cell_type": "code",
   "execution_count": null,
   "metadata": {
    "slideshow": {
     "slide_type": "notes"
    }
   },
   "outputs": [],
   "source": [
    "# A couple of useful libraries, with abbreviations\n",
    "import toyplot as tp\n",
    "import numpy as np"
   ]
  },
  {
   "cell_type": "markdown",
   "metadata": {
    "slideshow": {
     "slide_type": "fragment"
    }
   },
   "source": [
    "`numpy` has a `histogram` function"
   ]
  },
  {
   "cell_type": "code",
   "execution_count": null,
   "metadata": {
    "slideshow": {
     "slide_type": "-"
    }
   },
   "outputs": [],
   "source": [
    "np.histogram(data,bins=range(20))"
   ]
  },
  {
   "cell_type": "markdown",
   "metadata": {
    "slideshow": {
     "slide_type": "fragment"
    }
   },
   "source": [
    "What did it do? What *didn't* it do?"
   ]
  },
  {
   "cell_type": "markdown",
   "metadata": {
    "slideshow": {
     "slide_type": "subslide"
    }
   },
   "source": [
    "`toyplot` has a `bars` function"
   ]
  },
  {
   "cell_type": "code",
   "execution_count": null,
   "metadata": {
    "slideshow": {
     "slide_type": "subslide"
    }
   },
   "outputs": [],
   "source": [
    "tp.bars(np.histogram(data,bins=range(20)))"
   ]
  },
  {
   "cell_type": "markdown",
   "metadata": {
    "slideshow": {
     "slide_type": "fragment"
    }
   },
   "source": [
    "### Discuss\n",
    "\n",
    "How does this histogram help you decide which kind of average best represents the data?"
   ]
  }
 ],
 "metadata": {
  "celltoolbar": "Slideshow",
  "kernelspec": {
   "display_name": "Python 3",
   "language": "python",
   "name": "python3"
  },
  "language_info": {
   "codemirror_mode": {
    "name": "ipython",
    "version": 3
   },
   "file_extension": ".py",
   "mimetype": "text/x-python",
   "name": "python",
   "nbconvert_exporter": "python",
   "pygments_lexer": "ipython3",
   "version": "3.5.2"
  }
 },
 "nbformat": 4,
 "nbformat_minor": 2
}
